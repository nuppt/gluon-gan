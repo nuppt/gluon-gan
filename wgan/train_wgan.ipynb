{
 "cells": [
  {
   "cell_type": "markdown",
   "metadata": {
    "collapsed": true
   },
   "source": [
    "# package"
   ]
  },
  {
   "cell_type": "code",
   "execution_count": 1,
   "metadata": {},
   "outputs": [],
   "source": [
    "from __future__ import print_function\n",
    "\n",
    "import argparse\n",
    "from mxnet.image import image\n",
    "from mxnet.gluon.data.vision import transforms,CIFAR10,ImageFolderDataset\n",
    "from mxnet.gluon.data import DataLoader\n",
    "from mxnet.gluon import Trainer,nn\n",
    "from mxnet.base import numeric_types\n",
    "from mxnet.initializer import *\n",
    "from mxnet import autograd, nd\n",
    "import mxnet as mx\n",
    "import mxnet.gluon as gluon\n",
    "\n",
    "import numpy as np\n",
    "import math\n",
    "import os\n",
    "from mxboard import SummaryWriter\n",
    "from lsun import LSUN    # Dataset\n",
    "\n",
    "context = mx.gpu(0)"
   ]
  },
  {
   "cell_type": "markdown",
   "metadata": {},
   "source": [
    "# Model building\n",
    "* MLP_G, MLP_D\n",
    "* DCGAN_G, DCGAN_D\n",
    "* DCGAN_G_noBN, DCGAN_D_noBN"
   ]
  },
  {
   "cell_type": "markdown",
   "metadata": {},
   "source": [
    "### MLP_G, MLP_D"
   ]
  },
  {
   "cell_type": "code",
   "execution_count": 2,
   "metadata": {},
   "outputs": [],
   "source": [
    "class MLP_G(nn.Block):\n",
    "    def __init__(self, size_img, num_z, num_hidden, num_c):\n",
    "        super(MLP_G, self).__init__()\n",
    "        \n",
    "        self.size_img = size_img\n",
    "        self.num_c = num_c\n",
    "        \n",
    "        with self.name_scope():\n",
    "            self.base = nn.Sequential()\n",
    "            self.base.add(nn.Dense(units=num_hidden, in_units=num_z, activation='relu'))\n",
    "            self.base.add(nn.Dense(units=num_hidden, activation='relu'))\n",
    "            self.base.add(nn.Dense(units=num_hidden, activation='relu'))\n",
    "            self.base.add(nn.Dense(units=num_c*size_img*size_img))\n",
    "        \n",
    "    def forward(self, input):\n",
    "        #input = input.reshape((input.shape[0], input.shape[1]))\n",
    "        output = self.base(input)\n",
    "        return output.reshape((output.shape[0], self.num_c, self.size_img, self.size_img))"
   ]
  },
  {
   "cell_type": "code",
   "execution_count": 3,
   "metadata": {},
   "outputs": [],
   "source": [
    "class MLP_D(nn.Block):\n",
    "    def __init__(self, size_img, num_hidden, num_c):\n",
    "        super(MLP_D, self).__init__()\n",
    "        \n",
    "        #self.size_img = size_img\n",
    "        #self.num_hidden = num_hidden\n",
    "        #self.num_c = num_c\n",
    "        \n",
    "        with self.name_scope():\n",
    "            self.base = nn.Sequential()\n",
    "            self.base.add(nn.Dense(units=num_hidden, in_units=num_c*size_img*size_img, activation='relu'))\n",
    "            self.base.add(nn.Dense(units=num_hidden, activation='relu'))\n",
    "            self.base.add(nn.Dense(units=num_hidden, activation='relu'))\n",
    "            self.base.add(nn.Dense(units=1))\n",
    "    \n",
    "    def forward(self, input):\n",
    "        input = input.reshape((input.shape[0], -1))\n",
    "        output = self.base(input)\n",
    "        output = output.mean(axis=1)\n",
    "        return output"
   ]
  },
  {
   "cell_type": "markdown",
   "metadata": {},
   "source": [
    "### MLP_G, MLP_D test"
   ]
  },
  {
   "cell_type": "code",
   "execution_count": 4,
   "metadata": {},
   "outputs": [],
   "source": [
    "imageSize = 64\n",
    "nz = 100\n",
    "nc = 3\n",
    "num_hidden = 64\n",
    "\n",
    "mlp_G = MLP_G(imageSize, nz, num_hidden, nc)\n",
    "mlp_G.initialize(mx.init.Xavier(factor_type='in',magnitude=0.01),ctx=context)"
   ]
  },
  {
   "cell_type": "code",
   "execution_count": 5,
   "metadata": {},
   "outputs": [
    {
     "name": "stdout",
     "output_type": "stream",
     "text": [
      "(8, 100)\n",
      "(8, 3, 64, 64)\n"
     ]
    }
   ],
   "source": [
    "input_nd = nd.array(np.ones(shape = (8, 100)), ctx=mx.gpu(0)) # batchsize=8, nz=100\n",
    "output_nd = mlp_G(input_nd)\n",
    "print(input_nd.shape)\n",
    "print(output_nd.shape)"
   ]
  },
  {
   "cell_type": "code",
   "execution_count": 6,
   "metadata": {},
   "outputs": [],
   "source": [
    "mlp_D = MLP_D(imageSize, num_hidden, nc)\n",
    "mlp_D.initialize(mx.init.Xavier(factor_type='in',magnitude=0.01),ctx=context)"
   ]
  },
  {
   "cell_type": "code",
   "execution_count": 7,
   "metadata": {},
   "outputs": [
    {
     "name": "stdout",
     "output_type": "stream",
     "text": [
      "(8, 3, 64, 64)\n",
      "(8,)\n"
     ]
    }
   ],
   "source": [
    "mlp_d_input_nd = output_nd\n",
    "mlp_d_output_nd = mlp_D(mlp_d_input_nd)\n",
    "print(mlp_d_input_nd.shape)\n",
    "print(mlp_d_output_nd.shape)"
   ]
  },
  {
   "cell_type": "code",
   "execution_count": 8,
   "metadata": {},
   "outputs": [
    {
     "data": {
      "text/plain": [
       "\n",
       "[5.7439184e-12 5.7439184e-12 5.7439184e-12 5.7439184e-12 5.7439184e-12\n",
       " 5.7439184e-12 5.7439184e-12 5.7439184e-12]\n",
       "<NDArray 8 @gpu(0)>"
      ]
     },
     "execution_count": 8,
     "metadata": {},
     "output_type": "execute_result"
    }
   ],
   "source": [
    "mlp_d_output_nd"
   ]
  },
  {
   "cell_type": "code",
   "execution_count": null,
   "metadata": {},
   "outputs": [],
   "source": []
  },
  {
   "cell_type": "markdown",
   "metadata": {},
   "source": [
    "# Custom init of G, D"
   ]
  },
  {
   "cell_type": "code",
   "execution_count": null,
   "metadata": {},
   "outputs": [],
   "source": [
    "# custom weights initialization called on netG and netD\n",
    "def weights_init(layers):\n",
    "    for layer in layers:\n",
    "        classname = layer.__class__.__name__\n",
    "        if classname.find('Conv') != -1:\n",
    "            layer.weight.set_data(mx.ndarray.random.normal(0.0,0.02,shape=layer.weight.data().shape))\n",
    "        elif classname.find('BatchNorm') != -1:\n",
    "            layer.gamma.set_data(mx.ndarray.random.normal(1.0, 0.02,shape=layer.gamma.data().shape))\n",
    "            layer.beta.set_data(mx.ndarray.zeros(shape=layer.beta.data().shape))"
   ]
  },
  {
   "cell_type": "code",
   "execution_count": null,
   "metadata": {},
   "outputs": [],
   "source": [
    "weights_init(mpl_G.base)"
   ]
  },
  {
   "cell_type": "code",
   "execution_count": null,
   "metadata": {},
   "outputs": [],
   "source": []
  },
  {
   "cell_type": "markdown",
   "metadata": {},
   "source": [
    "# LSUN Dataset and DataLoader"
   ]
  },
  {
   "cell_type": "code",
   "execution_count": null,
   "metadata": {},
   "outputs": [],
   "source": [
    "dataroot = '/home/rich/Desktop/Datasets/lsun'\n",
    "dataset = LSUN(root=dataroot, classes=['bedroom_train'],\n",
    "               transform=transforms.Compose([\n",
    "                   transforms.Resize(imageSize, keep_ratio=True, interpolation=3),\n",
    "                   transforms.CenterCrop(imageSize),\n",
    "                   transforms.ToTensor(),\n",
    "                   transforms.Normalize((0.5, 0.5, 0.5), (0.5, 0.5, 0.5)),]))"
   ]
  },
  {
   "cell_type": "code",
   "execution_count": null,
   "metadata": {},
   "outputs": [],
   "source": [
    "assert dataset\n",
    "batch_size = 8\n",
    "dataloader = DataLoader(dataset, batch_size=batch_size,\n",
    "                        shuffle=True, num_workers=4)"
   ]
  },
  {
   "cell_type": "code",
   "execution_count": null,
   "metadata": {},
   "outputs": [],
   "source": []
  },
  {
   "cell_type": "markdown",
   "metadata": {},
   "source": [
    "# Train Process of MLP_G, MLP_D"
   ]
  },
  {
   "cell_type": "code",
   "execution_count": null,
   "metadata": {},
   "outputs": [],
   "source": [
    "trainer_G = Trainer(mlp_G.collect_params(),optimizer='adam',optimizer_params={'learning_rate': opt.lrG, 'beta1': opt.beta1, 'beta2': 0.999})\n",
    "trainer_D = Trainer(mlp_D.collect_params(),optimizer='adam',optimizer_params={'learning_rate': opt.lrD,'beta1': opt.beta1,'beta2':0.999})"
   ]
  },
  {
   "cell_type": "code",
   "execution_count": null,
   "metadata": {},
   "outputs": [],
   "source": []
  },
  {
   "cell_type": "code",
   "execution_count": null,
   "metadata": {},
   "outputs": [],
   "source": []
  },
  {
   "cell_type": "code",
   "execution_count": null,
   "metadata": {},
   "outputs": [],
   "source": []
  },
  {
   "cell_type": "code",
   "execution_count": null,
   "metadata": {},
   "outputs": [],
   "source": []
  },
  {
   "cell_type": "code",
   "execution_count": null,
   "metadata": {},
   "outputs": [],
   "source": []
  }
 ],
 "metadata": {
  "kernelspec": {
   "display_name": "Python 3",
   "language": "python",
   "name": "python3"
  },
  "language_info": {
   "codemirror_mode": {
    "name": "ipython",
    "version": 3
   },
   "file_extension": ".py",
   "mimetype": "text/x-python",
   "name": "python",
   "nbconvert_exporter": "python",
   "pygments_lexer": "ipython3",
   "version": "3.6.8"
  }
 },
 "nbformat": 4,
 "nbformat_minor": 1
}
